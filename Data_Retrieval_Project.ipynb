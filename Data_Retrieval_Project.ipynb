{
  "nbformat": 4,
  "nbformat_minor": 0,
  "metadata": {
    "colab": {
      "provenance": [],
      "authorship_tag": "ABX9TyNaMAikssoIfyhImgXGcbmF",
      "include_colab_link": true
    },
    "kernelspec": {
      "name": "python3",
      "display_name": "Python 3"
    },
    "language_info": {
      "name": "python"
    }
  },
  "cells": [
    {
      "cell_type": "markdown",
      "metadata": {
        "id": "view-in-github",
        "colab_type": "text"
      },
      "source": [
        "<a href=\"https://colab.research.google.com/github/JedRoundy/Predictive_Learning/blob/main/Data_Retrieval_Project.ipynb\" target=\"_parent\"><img src=\"https://colab.research.google.com/assets/colab-badge.svg\" alt=\"Open In Colab\"/></a>"
      ]
    },
    {
      "cell_type": "code",
      "source": [
        "###This project allows a user to enter any city that is in the google maps API and receive a comprehensive graph of the best restaurants in the given cities."
      ],
      "metadata": {
        "id": "QKKVFc5CAiGw"
      },
      "execution_count": null,
      "outputs": []
    },
    {
      "cell_type": "code",
      "execution_count": null,
      "metadata": {
        "id": "1QYmuIKHZYjm",
        "colab": {
          "base_uri": "https://localhost:8080/"
        },
        "outputId": "780f1c00-4ca7-4105-a492-88cc3f4db2aa"
      },
      "outputs": [
        {
          "output_type": "stream",
          "name": "stdout",
          "text": [
            "Mounted at /content/drive\n"
          ]
        }
      ],
      "source": [
        "import pandas as pd\n",
        "import requests\n",
        "from google.colab import drive\n",
        "drive.mount('/content/drive')\n",
        "import statsmodels.formula.api as smf\n",
        "import plotly.express as px\n",
        "import json\n",
        "import sqlite3"
      ]
    },
    {
      "cell_type": "code",
      "source": [
        "#Initialize variables & dataframes\n",
        "api_key = 'YOUR-GCP-API_KEY-HERE'\n",
        "types = 'restaurant'\n",
        "\n",
        "\n"
      ],
      "metadata": {
        "id": "26P-knZskNH6"
      },
      "execution_count": null,
      "outputs": []
    },
    {
      "cell_type": "code",
      "source": [
        "##Please only use a portion of the following to test my code. If I send too many api requests I'm gonna get hit with a (small-ish) bill.\n",
        "\n",
        "#Create list of towns to get geo-cords from\n",
        "towns = [#'Eagle Mountain, UT', 'Saratoga Springs, UT','Riverton, UT', 'Bluffdale', 'Herriman, UT', 'South Jordan, UT'\n",
        "         'Vineyard, UT',\n",
        "         #'Springville, UT', 'Mapleton, UT', 'Spanish Fork, UT', 'Payson, UT', 'Salem, UT', 'Nephi, UT',\n",
        "         #'St. George, UT', 'Cedar City, UT' ,'Santa Clara, UT', 'Ivins, UT',\n",
        "         'Orem, UT', 'Provo, UT', 'Lindon, UT',\n",
        "         'Pleasant Grove, UT', 'American Fork, UT', 'Lehi, UT',\n",
        "         #'Alpine, UT', 'Highland, UT', 'Draper, UT', 'Holladay, UT',\n",
        "        # 'Sugarhouse, UT', 'Salt Lake City, UT', 'Logan, UT', 'Brigham City, UT', 'Ogden, UT' ,'Roy, UT', 'West Valley, UT',\n",
        "         #'Murray, UT', 'Mill Creek, UT', 'Woods Cross, UT'\n",
        "         ]"
      ],
      "metadata": {
        "id": "EkaQNd6WlmcM"
      },
      "execution_count": null,
      "outputs": []
    },
    {
      "cell_type": "code",
      "source": [
        "# the api endpoint\n",
        "url = 'https://maps.googleapis.com/maps/api/geocode/json'\n",
        "\n",
        "# the api parameters\n",
        "lat_list = []\n",
        "long_list = []\n",
        "\n",
        "for town in towns:\n",
        "  address = town\n",
        "  # send the api request\n",
        "\n",
        "  params = {\n",
        "    'address': address,\n",
        "    'key': api_key\n",
        "}\n",
        "\n",
        "  response = requests.get(url, params=params)\n",
        "\n",
        "  # parse the response\n",
        "  data = response.json()\n",
        "\n",
        "  # extract the latitude and longitude\n",
        "  lat_list.append(data['results'][0]['geometry']['location']['lat'])\n",
        "  long_list.append(data['results'][0]['geometry']['location']['lng'])\n"
      ],
      "metadata": {
        "id": "PrOMofmTmAUM"
      },
      "execution_count": null,
      "outputs": []
    },
    {
      "cell_type": "code",
      "source": [
        "place_df = pd.DataFrame()\n",
        "results = []\n",
        "photo_url_list = []\n",
        "x = 0\n",
        "\n",
        "for town in towns:\n",
        "  #Get the api website\n",
        "  url = f\"https://maps.googleapis.com/maps/api/place/nearbysearch/json?location={lat_list[x]},{long_list[x]}&radius=2000&types={types}&name=restaurant&key={api_key}\"\n",
        "  #counter for url\n",
        "  x += 1\n",
        "\n",
        "  #get the api response\n",
        "  response = requests.get(url)\n",
        "  data = response.json()\n",
        "\n",
        "  # Convert the JSON response into a dataframe\n",
        "  results = data[\"results\"]\n",
        "  new_df = pd.json_normalize(results)\n",
        "\n",
        "  #Convert the photo reference into a photo_url\n",
        "  for i in range(new_df):\n",
        "    try:\n",
        "      photo_reference = results[i]['photos'][0]['photo_reference']\n",
        "      photo_url = f\"https://maps.googleapis.com/maps/api/place/photo?maxwidth=1000&maxheight=1000&photoreference={photo_reference}&key={api_key}\"\n",
        "      photo_url_list.append(photo_url)\n",
        "    except:\n",
        "      photo_url_list.append(None)\n",
        "  #Add the town column\n",
        "  new_df['town'] = town\n",
        "\n",
        "\n",
        "\n",
        "  #Append the iterative df to the larger df\n",
        "  place_df = place_df.append(new_df, ignore_index = True)\n",
        "\n",
        "# Append the photo url to the dataframe\n",
        "place_df['photo_url'] = photo_url_list\n"
      ],
      "metadata": {
        "id": "K0eGBWNOudse"
      },
      "execution_count": null,
      "outputs": []
    },
    {
      "cell_type": "code",
      "source": [],
      "metadata": {
        "id": "FMah7u2K01mY"
      },
      "execution_count": null,
      "outputs": []
    },
    {
      "cell_type": "code",
      "source": [
        "#create a list from my place_df to iterate through to grab details of each place.\n",
        "place_id_list = place_df['place_id'].tolist()"
      ],
      "metadata": {
        "id": "R2eNof5JWus4"
      },
      "execution_count": null,
      "outputs": []
    },
    {
      "cell_type": "code",
      "source": [
        "#initialize variables for my details api request\n",
        "author_name = []\n",
        "text = []\n",
        "author_rating = []\n",
        "details_df = pd.DataFrame()\n",
        "\n",
        "\n",
        "for place in place_id_list:\n",
        "  place_id = place\n",
        "  url = f\"https://maps.googleapis.com/maps/api/place/details/json?place_id={place_id}&key={api_key}\"\n",
        "\n",
        "  response = requests.get(url)\n",
        "  data = response.json()\n",
        "\n",
        "  # Extract the information from the response\n",
        "  place_details = data[\"result\"]\n",
        "\n",
        "\n",
        "  #Get the most relevant review for each restaurant\n",
        "  try:\n",
        "    author_name.append(place_details['reviews'][0]['author_name'])\n",
        "  except:\n",
        "    author_name.append(None)\n",
        "  try:\n",
        "    text.append(place_details['reviews'][0]['text'])\n",
        "  except:\n",
        "    text.append(None)\n",
        "  try:\n",
        "    author_rating.append(place_details['reviews'][0]['rating'])\n",
        "  except:\n",
        "    author_rating.append(None)\n",
        "\n",
        "\n",
        "\n",
        "  new_df = pd.json_normalize(place_details)\n",
        "  details_df = details_df.append(new_df, ignore_index = True)\n",
        "\n",
        "details_df['author_name'] = author_name\n",
        "details_df['author_rating'] = author_rating\n",
        "details_df['text'] = text"
      ],
      "metadata": {
        "id": "FZ_plTkaV0VV"
      },
      "execution_count": null,
      "outputs": []
    },
    {
      "cell_type": "code",
      "source": [
        "####\n",
        "#EDITING AND MERGING DF'S\n",
        "####\n"
      ],
      "metadata": {
        "id": "lh-uvTKL8fVB"
      },
      "execution_count": null,
      "outputs": []
    },
    {
      "cell_type": "code",
      "source": [
        "#Identify wanted columns\n",
        "details_df = details_df[['place_id','delivery' ,'dine_in','takeout' ,'url', 'website', 'author_name', 'author_rating', 'text']]\n"
      ],
      "metadata": {
        "id": "R_yMLOMLXOBk"
      },
      "execution_count": null,
      "outputs": []
    },
    {
      "cell_type": "code",
      "source": [
        "#identify wanted columns\n",
        "place_df = place_df[['business_status', 'name', 'place_id', 'price_level', 'rating', 'user_ratings_total', 'vicinity', 'town', 'photo_url']]"
      ],
      "metadata": {
        "id": "j8vT9wx6qMFu"
      },
      "execution_count": null,
      "outputs": []
    },
    {
      "cell_type": "code",
      "source": [
        "#merge columns on place_id\n",
        "big_df = place_df.merge(details_df, on = 'place_id')"
      ],
      "metadata": {
        "id": "GdVF8lmTPLYr"
      },
      "execution_count": null,
      "outputs": []
    },
    {
      "cell_type": "code",
      "source": [
        "#remove duplicates\n",
        "big_df = big_df.loc[big_df['duplicate'] == False]"
      ],
      "metadata": {
        "id": "ykfKtRD4QSW0"
      },
      "execution_count": null,
      "outputs": []
    },
    {
      "cell_type": "code",
      "source": [
        "#print it\n",
        "big_df"
      ],
      "metadata": {
        "id": "7_yO1oN1aHpN"
      },
      "execution_count": null,
      "outputs": []
    },
    {
      "cell_type": "code",
      "source": [
        "big_df.to_csv('/content/drive/My Drive/data.csv', index=False)"
      ],
      "metadata": {
        "id": "EQWy6IyFWwaS"
      },
      "execution_count": null,
      "outputs": []
    },
    {
      "cell_type": "code",
      "source": [
        "duplicates = big_df.duplicated()\n",
        "\n",
        "big_df['duplicate'] = duplicates\n"
      ],
      "metadata": {
        "id": "7mpiIa6YZJA-"
      },
      "execution_count": null,
      "outputs": []
    },
    {
      "cell_type": "code",
      "source": [
        "px.scatter(data_frame = df_pl_r, y = 'user_ratings_total', x = 'rating', hover_name = 'name', color = 'price_level', range_color= [0,4])"
      ],
      "metadata": {
        "id": "6wrVFe1FAk4c"
      },
      "execution_count": null,
      "outputs": []
    }
  ]
}